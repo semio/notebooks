{
 "cells": [
  {
   "cell_type": "code",
   "execution_count": 1,
   "metadata": {
    "collapsed": false
   },
   "outputs": [
    {
     "name": "stderr",
     "output_type": "stream",
     "text": [
      "/usr/local/lib/python3.5/site-packages/matplotlib/__init__.py:872: UserWarning: axes.color_cycle is deprecated and replaced with axes.prop_cycle; please use the latter.\n",
      "  warnings.warn(self.msg_depr % (key, alt_key))\n"
     ]
    }
   ],
   "source": [
    "# Necessary imports\n",
    "\n",
    "%matplotlib inline\n",
    "\n",
    "import matplotlib.pyplot as plt\n",
    "import numpy as np\n",
    "import pandas as pd"
   ]
  },
  {
   "cell_type": "code",
   "execution_count": 2,
   "metadata": {
    "collapsed": false
   },
   "outputs": [
    {
     "name": "stdout",
     "output_type": "stream",
     "text": [
      "AAPL\n"
     ]
    },
    {
     "name": "stderr",
     "output_type": "stream",
     "text": [
      "/usr/local/lib/python3.5/site-packages/pandas/io/data.py:33: FutureWarning: \n",
      "The pandas.io.data module is moved to a separate package (pandas-datareader) and will be removed from pandas in a future version.\n",
      "After installing the pandas-datareader package (https://github.com/pydata/pandas-datareader), you can change the import ``from pandas.io import data, wb`` to ``from pandas_datareader import data, wb``.\n",
      "  FutureWarning)\n"
     ]
    }
   ],
   "source": [
    "# loading data\n",
    "\n",
    "import zipline\n",
    "import pytz\n",
    "from datetime import datetime\n",
    "\n",
    "from zipline.utils.factory import load_bars_from_yahoo\n",
    "\n",
    "# Load data manually from Yahoo! finance\n",
    "start = datetime(2008, 1, 1, 0, 0, 0, 0, pytz.utc)\n",
    "end = datetime(2014, 1, 1, 0, 0, 0, 0, pytz.utc)\n",
    "data = load_bars_from_yahoo(stocks=['AAPL'], start=start,\n",
    "                            end=end)"
   ]
  },
  {
   "cell_type": "code",
   "execution_count": 22,
   "metadata": {
    "collapsed": false
   },
   "outputs": [],
   "source": [
    "# Define our Algorithm. \n",
    "\n",
    "\"\"\"\n",
    "An example would be:\n",
    "Buy 1000 shares of AAPL when the stock crosses the 50 day moving average and \n",
    "then it croses the 200 day moving average etc. and also a sell code. \n",
    "\"\"\"\n",
    "\n",
    "from zipline import TradingAlgorithm\n",
    "from zipline.api import symbol, order, record, history, add_history, get_datetime\n",
    "\n",
    "def initialize(context):\n",
    "    \n",
    "    # This algorithm has 2 window sizes. change the windows size below\n",
    "    long_window = 200\n",
    "    short_window = 50\n",
    "    \n",
    "    # don't change below\n",
    "    context.aapl = symbol('AAPL')\n",
    "    add_history(long_window, '1d', 'price')\n",
    "    add_history(short_window, '1d', 'price')\n",
    "    \n",
    "    context.i = 0\n",
    "    context.hasorder = False\n",
    "    context.isupperS = False\n",
    "    context.isupperL = False\n",
    "    context.long_window = long_window\n",
    "    context.short_window = short_window\n",
    "\n",
    "def handle_data(context, data):\n",
    "    \n",
    "    context.i += 1\n",
    "    if context.i <= 200:\n",
    "        return\n",
    "    \n",
    "    loc_dt = get_datetime()\n",
    "\n",
    "    prices = history(context.long_window, '1d', 'price')\n",
    "    \n",
    "    # only consider aapl\n",
    "    price = data[context.aapl].price\n",
    "    savg = pd.rolling_mean(prices[context.aapl], context.short_window).iloc[-1]\n",
    "    lavg = pd.rolling_mean(prices[context.aapl], context.long_window).iloc[-1]\n",
    "\n",
    "    # logic for enter long\n",
    "    if not context.hasorder:\n",
    "        if price >= savg and not context.isupperS:\n",
    "            context.isupperS = True\n",
    "        \n",
    "        if price >= lavg and not context.isupperL:\n",
    "            context.isupperL = True\n",
    "            \n",
    "        if context.isupperS and context.isupperL and not context.hasorder:\n",
    "            order(symbol('AAPL'), 100)\n",
    "            print('order aapl', loc_dt)\n",
    "            context.hasorder = True\n",
    "    # logic for exit long        \n",
    "    else:\n",
    "        if price < savg and context.isupperS:\n",
    "            context.isupperS = False\n",
    "        \n",
    "        if price < lavg and context.isupperL:\n",
    "            context.isupperL = False\n",
    "            \n",
    "        if not context.isupperL and not context.isupperS and context.hasorder:\n",
    "            order(symbol('AAPL'), -100)\n",
    "            print('sell aapl', loc_dt)\n",
    "            context.hasorder = False "
   ]
  },
  {
   "cell_type": "code",
   "execution_count": 23,
   "metadata": {
    "collapsed": false
   },
   "outputs": [
    {
     "name": "stdout",
     "output_type": "stream",
     "text": [
      "order aapl 2001-06-25 00:00:00+00:00\n",
      "sell aapl 2001-07-19 00:00:00+00:00\n",
      "order aapl 2001-11-26 00:00:00+00:00\n",
      "sell aapl 2002-06-07 00:00:00+00:00\n",
      "order aapl 2003-05-05 00:00:00+00:00\n",
      "sell aapl 2006-05-23 00:00:00+00:00\n",
      "order aapl 2006-07-20 00:00:00+00:00\n",
      "sell aapl 2006-12-21 00:00:00+00:00\n",
      "order aapl 2007-01-04 00:00:00+00:00\n",
      "sell aapl 2008-01-23 00:00:00+00:00\n",
      "order aapl 2008-04-03 00:00:00+00:00\n",
      "sell aapl 2008-06-12 00:00:00+00:00\n",
      "order aapl 2008-06-16 00:00:00+00:00\n",
      "sell aapl 2008-07-22 00:00:00+00:00\n",
      "order aapl 2008-08-11 00:00:00+00:00\n",
      "sell aapl 2008-09-04 00:00:00+00:00\n",
      "order aapl 2009-04-09 00:00:00+00:00\n",
      "sell aapl 2011-06-16 00:00:00+00:00\n",
      "order aapl 2011-07-01 00:00:00+00:00\n",
      "sell aapl 2011-11-25 00:00:00+00:00\n",
      "order aapl 2011-12-05 00:00:00+00:00\n"
     ]
    }
   ],
   "source": [
    "algo = TradingAlgorithm(initialize=initialize, handle_data=handle_data)\n",
    "results = algo.run(data)"
   ]
  },
  {
   "cell_type": "code",
   "execution_count": 25,
   "metadata": {
    "collapsed": false
   },
   "outputs": [
    {
     "data": {
      "text/plain": [
       "<matplotlib.axes._subplots.AxesSubplot at 0x10d94e2e8>"
      ]
     },
     "execution_count": 25,
     "metadata": {},
     "output_type": "execute_result"
    },
    {
     "data": {
      "image/png": "[encoded data removed]",
      "text/plain": [
       "<matplotlib.figure.Figure at 0x10d755048>"
      ]
     },
     "metadata": {},
     "output_type": "display_data"
    }
   ],
   "source": [
    "# plotting the portfolio value\n",
    "\n",
    "plt.figure(figsize=(10, 8))\n",
    "\n",
    "results.portfolio_value.plot()"
   ]
  },
  {
   "cell_type": "code",
   "execution_count": null,
   "metadata": {
    "collapsed": true
   },
   "outputs": [],
   "source": []
  }
 ],
 "metadata": {
  "kernelspec": {
   "display_name": "Python 3",
   "language": "python",
   "name": "python3"
  },
  "language_info": {
   "codemirror_mode": {
    "name": "ipython",
    "version": 3
   },
   "file_extension": ".py",
   "mimetype": "text/x-python",
   "name": "python",
   "nbconvert_exporter": "python",
   "pygments_lexer": "ipython3",
   "version": "3.5.0"
  }
 },
 "nbformat": 4,
 "nbformat_minor": 0
}
