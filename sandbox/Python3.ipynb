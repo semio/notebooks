{
 "cells": [
  {
   "cell_type": "code",
   "execution_count": 3,
   "metadata": {
    "collapsed": true
   },
   "outputs": [],
   "source": [
    "import asyncio\n",
    "import logging"
   ]
  },
  {
   "cell_type": "code",
   "execution_count": 15,
   "metadata": {
    "collapsed": false
   },
   "outputs": [
    {
     "name": "stdout",
     "output_type": "stream",
     "text": [
      "Overwriting asynctest.py\n"
     ]
    }
   ],
   "source": [
    "%%writefile asynctest.py\n",
    "\n",
    "import asyncio\n",
    "import logging\n",
    "\n",
    "logging.basicConfig(format=\"[%(thread)-5d]%(asctime)s: %(message)s\") # Chcek\n",
    "logger = logging.getLogger('async')\n",
    "logger.setLevel(logging.INFO)\n",
    "\n",
    "async def print_after(msg, wait_secs):\n",
    "    await asyncio.sleep(wait_secs)\n",
    "    logger.info(msg)\n",
    "\n",
    "async def test_async():\n",
    "    await asyncio.gather(\n",
    "        print_after(\"One second\", 1),\n",
    "        print_after(\"Two seconds\", 2),\n",
    "        print_after(\"Three seconds\", 3))\n",
    "    logger.info(\"finished\")\n",
    "\n",
    "def main():\n",
    "    loop = asyncio.get_event_loop()\n",
    "    loop.run_until_complete(test_async())\n",
    "\n",
    "if __name__ == '__main__':\n",
    "    main()"
   ]
  },
  {
   "cell_type": "code",
   "execution_count": 16,
   "metadata": {
    "collapsed": false
   },
   "outputs": [
    {
     "name": "stdout",
     "output_type": "stream",
     "text": [
      "[140735129403392]2015-12-02 08:45:07,798: One second\n",
      "[140735129403392]2015-12-02 08:45:08,799: Two seconds\n",
      "[140735129403392]2015-12-02 08:45:09,798: Three seconds\n",
      "[140735129403392]2015-12-02 08:45:09,798: finished\n"
     ]
    }
   ],
   "source": [
    "!python3 asynctest.py"
   ]
  },
  {
   "cell_type": "code",
   "execution_count": 18,
   "metadata": {
    "collapsed": false
   },
   "outputs": [],
   "source": [
    "%load_ext yf"
   ]
  },
  {
   "cell_type": "code",
   "execution_count": 19,
   "metadata": {
    "collapsed": false
   },
   "outputs": [
    {
     "name": "stderr",
     "output_type": "stream",
     "text": [
      "INFO:async:One second\n",
      "INFO:async:Two seconds\n",
      "INFO:async:Three seconds\n",
      "INFO:async:finished\n"
     ]
    }
   ],
   "source": [
    "main()"
   ]
  },
  {
   "cell_type": "code",
   "execution_count": 20,
   "metadata": {
    "collapsed": false
   },
   "outputs": [
    {
     "name": "stderr",
     "output_type": "stream",
     "text": [
      "INFO:async:Running cpu-bound op on (1.875,) for 1 seconds\n",
      "INFO:async:Running cpu-bound op on (1.0714285714285714,) for 1 seconds\n",
      "INFO:async:Running cpu-bound op on (3.75,) for 1 seconds\n",
      "INFO:async:Running cpu-bound op on (0.625,) for 1 seconds\n",
      "INFO:async:Running cpu-bound op on (0.35714285714285715,) for 1 seconds\n",
      "INFO:async:Running cpu-bound op on (1.25,) for 1 seconds\n",
      "INFO:async:Running cpu-bound op on (2.5,) for 1 seconds\n",
      "INFO:async:Running cpu-bound op on (0.7142857142857143,) for 1 seconds\n",
      "INFO:async:Running cpu-bound op on (1.25,) for 1 seconds\n",
      "INFO:async:Running cpu-bound op on (3.75, 1.875, 1.0714285714285714) for 2 seconds\n",
      "INFO:async:Running cpu-bound op on (2.5, 1.25, 0.7142857142857143) for 2 seconds\n",
      "INFO:async:Running cpu-bound op on (1.25, 0.625, 0.35714285714285715) for 2 seconds\n",
      "INFO:async:Running cpu-bound op on (2.232142857142857, 4.464285714285714, 6.696428571428571) for 3 seconds\n",
      "INFO:async:Completed (13.392857142857142) in 6.011924982070923 seconds\n"
     ]
    }
   ],
   "source": [
    "import asyncio\n",
    "import logging\n",
    "import time\n",
    "from concurrent.futures import ThreadPoolExecutor\n",
    "\n",
    "logging.basicConfig(format=\"[%(thread)-5d]%(asctime)s: %(message)s\")\n",
    "logger = logging.getLogger('async')\n",
    "logger.setLevel(logging.INFO)\n",
    "\n",
    "executor = ThreadPoolExecutor(max_workers=10)\n",
    "loop = asyncio.get_event_loop()\n",
    "\n",
    "def cpu_bound_op(exec_time, *data):\n",
    "    \"\"\"\n",
    "    Simulation of a long-running CPU-bound operation\n",
    "    :param exec_time: how long this operation will take\n",
    "    :param data: data to \"process\" (sum it up)\n",
    "    :return: the processed result\n",
    "    \"\"\"\n",
    "    logger.info(\"Running cpu-bound op on {} for {} seconds\".format(data, exec_time))\n",
    "    time.sleep(exec_time)\n",
    "    return sum(data)\n",
    "\n",
    "async def process_pipeline(data):\n",
    "    # just pass the data along to level_a and return the results\n",
    "    results = await level_a(data)\n",
    "    return results\n",
    "\n",
    "async def level_a(data):\n",
    "    # tweak the data a few different ways and pass them each to level b.\n",
    "    level_b_inputs = data, 2*data, 3*data\n",
    "    results = await asyncio.gather(*[level_b(val) for val in level_b_inputs])\n",
    "    # we've now effectively called level_b(...) three times with three inputs,\n",
    "    # and (once the await returns) they've all finished, so now we'll take\n",
    "    # the results and pass them along to our own long-running CPU-bound\n",
    "    # process via the thread pool.\n",
    "    # Note the signature of run_in_executor: (executor, func, *args)\n",
    "    # The third argument and beyond will be passed to cpu_bound_op when it is called.\n",
    "    result = await loop.run_in_executor(executor, cpu_bound_op, 3, *results)\n",
    "    # level_a processing is now done, pass back the results\n",
    "    return result\n",
    "\n",
    "async def level_b(data):\n",
    "    # similar to level a\n",
    "    level_c_inputs = data/2, data/4, data/7\n",
    "    results = await asyncio.gather(*[level_c(val) for val in level_c_inputs])\n",
    "    result = await loop.run_in_executor(executor, cpu_bound_op, 2, *results)\n",
    "    return result\n",
    "\n",
    "async def level_c(data):\n",
    "    # final level - queue up the long-running CPU-bound process in the\n",
    "    # thread pool immediately\n",
    "    result = await loop.run_in_executor(executor, cpu_bound_op, 1, data)\n",
    "    return result\n",
    "\n",
    "def main():\n",
    "    start_time = time.time()\n",
    "    result = loop.run_until_complete(process_pipeline(2.5))\n",
    "    logger.info(\"Completed ({}) in {} seconds\".format(result, time.time() - start_time))\n",
    "\n",
    "if __name__ == '__main__':\n",
    "    main()"
   ]
  },
  {
   "cell_type": "code",
   "execution_count": 38,
   "metadata": {
    "collapsed": true
   },
   "outputs": [],
   "source": [
    "# test generators\n",
    "\n",
    "def mygen(s):\n",
    "    while True:\n",
    "        line = yield\n",
    "        if s in line:\n",
    "            print(line)"
   ]
  },
  {
   "cell_type": "code",
   "execution_count": 39,
   "metadata": {
    "collapsed": true
   },
   "outputs": [],
   "source": [
    "testgen = mygen('test')"
   ]
  },
  {
   "cell_type": "code",
   "execution_count": 40,
   "metadata": {
    "collapsed": false
   },
   "outputs": [],
   "source": [
    "testgen.send(None)"
   ]
  },
  {
   "cell_type": "code",
   "execution_count": 41,
   "metadata": {
    "collapsed": false
   },
   "outputs": [
    {
     "name": "stdout",
     "output_type": "stream",
     "text": [
      "testing\n"
     ]
    }
   ],
   "source": [
    "testgen.send('testing')"
   ]
  },
  {
   "cell_type": "code",
   "execution_count": 42,
   "metadata": {
    "collapsed": false
   },
   "outputs": [
    {
     "data": {
      "text/plain": [
       "dict_keys([])"
      ]
     },
     "execution_count": 42,
     "metadata": {},
     "output_type": "execute_result"
    }
   ],
   "source": [
    "{}.keys()"
   ]
  },
  {
   "cell_type": "code",
   "execution_count": null,
   "metadata": {
    "collapsed": true
   },
   "outputs": [],
   "source": []
  }
 ],
 "metadata": {
  "kernelspec": {
   "display_name": "Python 3",
   "language": "python",
   "name": "python3"
  },
  "language_info": {
   "codemirror_mode": {
    "name": "ipython",
    "version": 3
   },
   "file_extension": ".py",
   "mimetype": "text/x-python",
   "name": "python",
   "nbconvert_exporter": "python",
   "pygments_lexer": "ipython3",
   "version": "3.5.0"
  }
 },
 "nbformat": 4,
 "nbformat_minor": 0
}
