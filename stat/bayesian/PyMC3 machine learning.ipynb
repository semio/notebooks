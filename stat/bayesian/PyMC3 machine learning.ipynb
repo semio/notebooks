{
 "cells": [
  {
   "cell_type": "code",
   "execution_count": 1,
   "metadata": {
    "collapsed": false
   },
   "outputs": [
    {
     "name": "stderr",
     "output_type": "stream",
     "text": [
      "/usr/local/lib/python3.5/site-packages/matplotlib/__init__.py:872: UserWarning: axes.color_cycle is deprecated and replaced with axes.prop_cycle; please use the latter.\n",
      "  warnings.warn(self.msg_depr % (key, alt_key))\n"
     ]
    }
   ],
   "source": [
    "import numpy as np\n",
    "import pymc3 as pm"
   ]
  },
  {
   "cell_type": "code",
   "execution_count": 2,
   "metadata": {
    "collapsed": false
   },
   "outputs": [
    {
     "name": "stderr",
     "output_type": "stream",
     "text": [
      "/usr/local/lib/python3.5/site-packages/matplotlib/__init__.py:872: UserWarning: axes.color_cycle is deprecated and replaced with axes.prop_cycle; please use the latter.\n",
      "  warnings.warn(self.msg_depr % (key, alt_key))\n"
     ]
    }
   ],
   "source": [
    "%matplotlib inline\n",
    "\n",
    "import matplotlib.pyplot as plt\n",
    "import seaborn as sns"
   ]
  },
  {
   "cell_type": "code",
   "execution_count": 3,
   "metadata": {
    "collapsed": true
   },
   "outputs": [],
   "source": [
    "from scipy import stats"
   ]
  },
  {
   "cell_type": "code",
   "execution_count": 4,
   "metadata": {
    "collapsed": false
   },
   "outputs": [],
   "source": [
    "sns.set_context('notebook')\n",
    "plt.style.use(['classic', 'seaborn-whitegrid'])"
   ]
  },
  {
   "cell_type": "markdown",
   "metadata": {},
   "source": [
    "## T-test"
   ]
  },
  {
   "cell_type": "code",
   "execution_count": 92,
   "metadata": {
    "collapsed": true
   },
   "outputs": [],
   "source": [
    "# Data\n",
    "\n",
    "mu1, std1 = 5, 5\n",
    "group1 = stats.norm.rvs(loc=mu1, scale=std1, size=100)\n",
    "\n",
    "mu2, std2 = 10, 3\n",
    "group2 = stats.norm.rvs(loc=mu2, scale=std2, size=100)"
   ]
  },
  {
   "cell_type": "code",
   "execution_count": 100,
   "metadata": {
    "collapsed": false
   },
   "outputs": [
    {
     "name": "stderr",
     "output_type": "stream",
     "text": [
      "INFO (theano.gof.compilelock): Refreshing lock /Users/semio/.theano/compiledir_Darwin-15.2.0-x86_64-i386-64bit-i386-3.5.0-64/lock_dir/lock\n",
      "INFO:theano.gof.compilelock:Refreshing lock /Users/semio/.theano/compiledir_Darwin-15.2.0-x86_64-i386-64bit-i386-3.5.0-64/lock_dir/lock\n"
     ]
    }
   ],
   "source": [
    "# model\n",
    "with pm.Model() as ttest:\n",
    "    mu1e = pm.Normal('mu1', mu=group1.mean(), sd=.1)\n",
    "    std1e = pm.Uniform('std1', lower=0, upper=10)\n",
    "    g1 = pm.Normal('group1', mu=mu1e, sd=std1e, observed=group1)\n",
    "    \n",
    "    mu2e = pm.Normal('mu2', mu=group2.mean(), sd=.1)\n",
    "    std2e = pm.Uniform('std2', lower=0, upper=10)\n",
    "    g2 = pm.Normal('group2', mu=mu2e, sd=std2e, observed=group2)\n",
    "    \n",
    "    # test\n",
    "    mean_dif = pm.Deterministic('Mean dif', mu1e-mu2e)\n",
    "    std_dif = pm.Deterministic('Std dif', std1e-std2e)\n"
   ]
  },
  {
   "cell_type": "code",
   "execution_count": 101,
   "metadata": {
    "collapsed": false
   },
   "outputs": [],
   "source": [
    "# sampling\n",
    "with ttest:\n",
    "    start = pm.find_MAP()\n",
    "    step = pm.Metropolis()\n",
    "    trace = pm.sample(10000, step, start, progressbar=False)"
   ]
  },
  {
   "cell_type": "code",
   "execution_count": 103,
   "metadata": {
    "collapsed": false
   },
   "outputs": [
    {
     "name": "stdout",
     "output_type": "stream",
     "text": [
      "\n",
      "Mean dif:\n",
      "\n",
      "  Mean             SD               MC Error         95% HPD interval\n",
      "  -------------------------------------------------------------------\n",
      "  \n",
      "  -6.156           0.136            0.005            [-6.408, -5.893]\n",
      "\n",
      "  Posterior quantiles:\n",
      "  2.5            25             50             75             97.5\n",
      "  |--------------|==============|==============|--------------|\n",
      "  \n",
      "  -6.406         -6.258         -6.154         -6.063         -5.888\n",
      "\n",
      "\n",
      "Std dif:\n",
      "\n",
      "  Mean             SD               MC Error         95% HPD interval\n",
      "  -------------------------------------------------------------------\n",
      "  \n",
      "  2.553            0.451            0.015            [1.593, 3.396]\n",
      "\n",
      "  Posterior quantiles:\n",
      "  2.5            25             50             75             97.5\n",
      "  |--------------|==============|==============|--------------|\n",
      "  \n",
      "  1.696          2.255          2.547          2.834          3.542\n",
      "\n"
     ]
    }
   ],
   "source": [
    "pm.summary(trace[1000::10], vars=['Mean dif', 'Std dif'])"
   ]
  },
  {
   "cell_type": "code",
   "execution_count": null,
   "metadata": {
    "collapsed": true
   },
   "outputs": [],
   "source": []
  },
  {
   "cell_type": "code",
   "execution_count": null,
   "metadata": {
    "collapsed": true
   },
   "outputs": [],
   "source": []
  },
  {
   "cell_type": "code",
   "execution_count": null,
   "metadata": {
    "collapsed": true
   },
   "outputs": [],
   "source": []
  },
  {
   "cell_type": "markdown",
   "metadata": {},
   "source": [
    "## Linear Regression"
   ]
  },
  {
   "cell_type": "code",
   "execution_count": 111,
   "metadata": {
    "collapsed": false
   },
   "outputs": [],
   "source": [
    "x = np.linspace(0, 20, 20)\n",
    "\n",
    "a, b = 3, 5\n",
    "\n",
    "y = a * x + b + stats.t.rvs(df=1, scale=3, size=np.size(x))"
   ]
  },
  {
   "cell_type": "code",
   "execution_count": 112,
   "metadata": {
    "collapsed": false
   },
   "outputs": [
    {
     "data": {
      "image/png": "[encoded data removed]",
      "text/plain": [
       "<matplotlib.figure.Figure at 0x1208f4470>"
      ]
     },
     "metadata": {},
     "output_type": "display_data"
    }
   ],
   "source": [
    "plt.plot(x, y, '.')\n",
    "\n",
    "plt.xlim((-10, 30))\n",
    "plt.ylim((-10, 80))\n",
    "plt.show()"
   ]
  },
  {
   "cell_type": "code",
   "execution_count": 65,
   "metadata": {
    "collapsed": false
   },
   "outputs": [
    {
     "data": {
      "text/plain": [
       "3.3854675708016941"
      ]
     },
     "execution_count": 65,
     "metadata": {},
     "output_type": "execute_result"
    }
   ],
   "source": [
    "np.median(y) / np.median(x)"
   ]
  },
  {
   "cell_type": "code",
   "execution_count": 113,
   "metadata": {
    "collapsed": false
   },
   "outputs": [
    {
     "name": "stderr",
     "output_type": "stream",
     "text": [
      "INFO (theano.gof.compilelock): Refreshing lock /Users/semio/.theano/compiledir_Darwin-15.2.0-x86_64-i386-64bit-i386-3.5.0-64/lock_dir/lock\n",
      "INFO:theano.gof.compilelock:Refreshing lock /Users/semio/.theano/compiledir_Darwin-15.2.0-x86_64-i386-64bit-i386-3.5.0-64/lock_dir/lock\n"
     ]
    }
   ],
   "source": [
    "with pm.Model() as linreg:\n",
    "    ma = pm.Normal('alpha', mu=4, sd=2)\n",
    "    mb = pm.Normal('beta', mu=7, sd=3)\n",
    "    \n",
    "    mu = ma * x + mb\n",
    "    nu = pm.Exponential('nu', lam=2)\n",
    "    lam = pm.Uniform('lam', 0, 5)\n",
    "    \n",
    "    my = pm.T('Y', nu=nu, mu=mu, lam=lam, observed=y)"
   ]
  },
  {
   "cell_type": "code",
   "execution_count": 114,
   "metadata": {
    "collapsed": false
   },
   "outputs": [
    {
     "name": "stdout",
     "output_type": "stream",
     "text": [
      " [-----------------100%-----------------] 10000 of 10000 complete in 12.5 sec"
     ]
    }
   ],
   "source": [
    "with linreg:\n",
    "    start = pm.find_MAP()\n",
    "    step = pm.NUTS(scaling=start) \n",
    "    trace = pm.sample(10000, step, start=start)"
   ]
  },
  {
   "cell_type": "code",
   "execution_count": 148,
   "metadata": {
    "collapsed": false
   },
   "outputs": [
    {
     "data": {
      "text/plain": [
       "{'alpha': array([ 2.77826055,  3.21390337]),\n",
       " 'beta': array([ 1.66540603,  6.59461878])}"
      ]
     },
     "execution_count": 148,
     "metadata": {},
     "output_type": "execute_result"
    }
   ],
   "source": [
    "pm.hpd(trace[2000::10], alpha=.05, vars=['alpha', 'beta'])"
   ]
  },
  {
   "cell_type": "code",
   "execution_count": 146,
   "metadata": {
    "collapsed": true
   },
   "outputs": [],
   "source": [
    "alpha = trace[2000::100]['alpha']\n",
    "beta = trace[2000::100]['beta']"
   ]
  },
  {
   "cell_type": "code",
   "execution_count": 147,
   "metadata": {
    "collapsed": false
   },
   "outputs": [
    {
     "data": {
      "image/png": "[encoded data removed]",
      "text/plain": [
       "<matplotlib.figure.Figure at 0x1130cf6a0>"
      ]
     },
     "metadata": {},
     "output_type": "display_data"
    }
   ],
   "source": [
    "x_p = np.linspace(-3, 23)\n",
    "for i in range(len(alpha)):\n",
    "    y_p = alpha[i] * x_p + beta[i]\n",
    "    plt.plot(x_p, y_p, 'k', alpha=.03)\n",
    "\n",
    "plt.plot(x, y, '.')\n",
    "\n",
    "plt.xlim((-10, 30))\n",
    "plt.ylim((-10, 80))\n",
    "plt.show()"
   ]
  },
  {
   "cell_type": "code",
   "execution_count": null,
   "metadata": {
    "collapsed": true
   },
   "outputs": [],
   "source": []
  },
  {
   "cell_type": "code",
   "execution_count": null,
   "metadata": {
    "collapsed": true
   },
   "outputs": [],
   "source": []
  },
  {
   "cell_type": "markdown",
   "metadata": {},
   "source": [
    "## Polynoimal Fit"
   ]
  },
  {
   "cell_type": "code",
   "execution_count": 5,
   "metadata": {
    "collapsed": false
   },
   "outputs": [],
   "source": [
    "# data\n",
    "\n",
    "from scipy import io\n",
    "\n",
    "data = io.loadmat('vars.mat')"
   ]
  },
  {
   "cell_type": "code",
   "execution_count": 6,
   "metadata": {
    "collapsed": false
   },
   "outputs": [
    {
     "data": {
      "text/plain": [
       "{'X': array([[-15.93675813],\n",
       "        [-29.15297922],\n",
       "        [ 36.18954863],\n",
       "        [ 37.49218733],\n",
       "        [-48.05882945],\n",
       "        [ -8.94145794],\n",
       "        [ 15.30779289],\n",
       "        [-34.70626581],\n",
       "        [  1.38915437],\n",
       "        [-44.38375985],\n",
       "        [  7.01350208],\n",
       "        [ 22.76274892]]),\n",
       " '__globals__': [],\n",
       " '__header__': b'MATLAB 5.0 MAT-file Platform: posix, Created on: Tue Nov 17 17:08:09 2015',\n",
       " '__version__': '1.0',\n",
       " 'y': array([[  2.13431051],\n",
       "        [  1.17325668],\n",
       "        [ 34.35910918],\n",
       "        [ 36.83795516],\n",
       "        [  2.80896507],\n",
       "        [  2.12107248],\n",
       "        [ 14.71026831],\n",
       "        [  2.61418439],\n",
       "        [  3.74017167],\n",
       "        [  3.73169131],\n",
       "        [  7.62765885],\n",
       "        [ 22.7524283 ]])}"
      ]
     },
     "execution_count": 6,
     "metadata": {},
     "output_type": "execute_result"
    }
   ],
   "source": [
    "data"
   ]
  },
  {
   "cell_type": "code",
   "execution_count": 18,
   "metadata": {
    "collapsed": false
   },
   "outputs": [],
   "source": [
    "x = data['X'].flatten()\n",
    "y = data['y'].flatten()"
   ]
  },
  {
   "cell_type": "code",
   "execution_count": 25,
   "metadata": {
    "collapsed": false
   },
   "outputs": [
    {
     "data": {
      "text/plain": [
       "((12,), (12,))"
      ]
     },
     "execution_count": 25,
     "metadata": {},
     "output_type": "execute_result"
    }
   ],
   "source": [
    "x.shape, y.shape"
   ]
  },
  {
   "cell_type": "code",
   "execution_count": 8,
   "metadata": {
    "collapsed": false
   },
   "outputs": [
    {
     "data": {
      "text/plain": [
       "(-10, 50)"
      ]
     },
     "execution_count": 8,
     "metadata": {},
     "output_type": "execute_result"
    },
    {
     "data": {
      "image/png": "[encoded data removed]",
      "text/plain": [
       "<matplotlib.figure.Figure at 0x1067d9400>"
      ]
     },
     "metadata": {},
     "output_type": "display_data"
    }
   ],
   "source": [
    "plt.plot(x, y, 'bx')\n",
    "\n",
    "plt.xlim((-60, 50))\n",
    "plt.ylim((-10, 50))"
   ]
  },
  {
   "cell_type": "code",
   "execution_count": 19,
   "metadata": {
    "collapsed": false
   },
   "outputs": [],
   "source": [
    "# get polynomial features\n",
    "x_mat = np.c_[x, (x**2), (x**3)]\n",
    "\n",
    "# standarize the feature\n",
    "x_mu = x_mat.mean(axis=0)\n",
    "x_std = x_mat.std(axis=0)\n",
    "\n",
    "x_mat[:, 0] = (x_mat[:, 0] - x_mu[0]) / x_std[0]\n",
    "x_mat[:, 1] = (x_mat[:, 1] - x_mu[1]) / x_std[1]\n",
    "x_mat[:, 2] = (x_mat[:, 2] - x_mu[2]) / x_std[2]\n",
    "\n",
    "# also standardize the target\n",
    "y_mu = y.mean()\n",
    "y_std = y.std()\n",
    "\n",
    "y_mat = (y - y_mu) / y_std"
   ]
  },
  {
   "cell_type": "code",
   "execution_count": 20,
   "metadata": {
    "collapsed": false
   },
   "outputs": [],
   "source": [
    "with pm.Model() as polymol:\n",
    "    b0 = pm.Normal('b0', sd=50)\n",
    "    b1 = pm.Normal('b1', sd=50, shape=(3,))\n",
    "    \n",
    "    zsigma = pm.Uniform('zsigma', 1.0E-5 , 1.0E-1)\n",
    "    nuMinusOne = pm.Exponential('nu-1', lam=1/29)\n",
    "    nu = nuMinusOne + 1\n",
    "    \n",
    "    mu = b0 + pm.dot(b1, x_mat.T)\n",
    "    \n",
    "    obv = pm.T('observed', mu=mu, nu=nu, lam=1/(zsigma**2), observed=y_mat)\n",
    "    \n",
    "    beta0_ = (y_std * b0) + y_mu - y_std * pm.sum(b1 * x_mu / x_std, axis=0)  \n",
    "    beta1_ = y_std * (b1 / x_std)\n",
    "    \n",
    "    beta0 = pm.Deterministic('beta0', beta0_)\n",
    "    beta1 = pm.Deterministic('beta1', beta1_)  "
   ]
  },
  {
   "cell_type": "code",
   "execution_count": 21,
   "metadata": {
    "collapsed": false
   },
   "outputs": [
    {
     "name": "stdout",
     "output_type": "stream",
     "text": [
      "Assigned <class 'pymc3.step_methods.nuts.NUTS'> to nu-1_log\n",
      " [-----------------100%-----------------] 10000 of 10000 complete in 12.3 sec"
     ]
    }
   ],
   "source": [
    "with polymol:\n",
    "    start = pm.find_MAP() # Find starting value by optimization\n",
    "    step1 = pm.NUTS([b1])\n",
    "    step2 = pm.Metropolis([b0, zsigma])\n",
    "    trace = pm.sample(10000, [step1, step2], start, progressbar=True)"
   ]
  },
  {
   "cell_type": "code",
   "execution_count": 22,
   "metadata": {
    "collapsed": false
   },
   "outputs": [
    {
     "name": "stdout",
     "output_type": "stream",
     "text": [
      "\n",
      "beta0:\n",
      "\n",
      "  Mean             SD               MC Error         95% HPD interval\n",
      "  -------------------------------------------------------------------\n",
      "  \n",
      "  5.183            0.688            0.071            [3.812, 6.342]\n",
      "\n",
      "  Posterior quantiles:\n",
      "  2.5            25             50             75             97.5\n",
      "  |--------------|==============|==============|--------------|\n",
      "  \n",
      "  3.812          4.805          5.223          5.640          6.342\n",
      "\n",
      "\n",
      "beta1:\n",
      "\n",
      "  Mean             SD               MC Error         95% HPD interval\n",
      "  -------------------------------------------------------------------\n",
      "  \n",
      "  0.385            0.038            0.004            [0.312, 0.465]\n",
      "  0.010            0.001            0.000            [0.009, 0.011]\n",
      "  0.000            0.000            0.000            [0.000, 0.000]\n",
      "\n",
      "  Posterior quantiles:\n",
      "  2.5            25             50             75             97.5\n",
      "  |--------------|==============|==============|--------------|\n",
      "  \n",
      "  0.294          0.367          0.390          0.409          0.462\n",
      "  0.009          0.010          0.010          0.011          0.012\n",
      "  0.000          0.000          0.000          0.000          0.000\n",
      "\n"
     ]
    }
   ],
   "source": [
    "pm.summary(trace[2000::50], vars=['beta0', 'beta1'])"
   ]
  },
  {
   "cell_type": "code",
   "execution_count": 23,
   "metadata": {
    "collapsed": false
   },
   "outputs": [],
   "source": [
    "# back to original scale\n",
    "b0 = trace['b0'][2000::50]\n",
    "b1 = trace['b1'][2000::50]\n",
    "\n",
    "\n",
    "beta0 = (y_std * b0) + y_mu - y_std * np.sum(b1 * x_mu / x_std, axis=1)  \n",
    "beta1 = y_std * (b1 / x_std)\n",
    "\n",
    "# bb0 = -0.6\n",
    "# bb1 = np.array([-0.03, 0.016, 0.044])\n",
    "\n",
    "# beta0 = (y_std * bb0) + y_mu - y_std * np.sum(bb1 * x_mu / x_std)\n",
    "# beta1 = y_std * (bb1 / x_std)"
   ]
  },
  {
   "cell_type": "code",
   "execution_count": 14,
   "metadata": {
    "collapsed": false
   },
   "outputs": [
    {
     "data": {
      "text/plain": [
       "2.8214927931411116"
      ]
     },
     "execution_count": 14,
     "metadata": {},
     "output_type": "execute_result"
    }
   ],
   "source": [
    "np.median(beta0)"
   ]
  },
  {
   "cell_type": "code",
   "execution_count": 41,
   "metadata": {
    "collapsed": false
   },
   "outputs": [
    {
     "data": {
      "image/png": "[encoded data removed]",
      "text/plain": [
       "<matplotlib.figure.Figure at 0x11004c198>"
      ]
     },
     "metadata": {},
     "output_type": "display_data"
    }
   ],
   "source": [
    "plt.figure(figsize=(8,5))\n",
    "plt.plot(x, y, 'x')\n",
    "\n",
    "x_t = np.linspace(-55, 55)\n",
    "x_pred = np.c_[x_t, (x_t**2), (x_t**3)]\n",
    "\n",
    "\n",
    "for i in range(len(b1)):\n",
    "    y_p = np.dot(beta1[i], x_pred.T) + beta0[i]\n",
    "\n",
    "    plt.plot(x_pred[:, 0], y_p, 'k-', alpha=.02)"
   ]
  },
  {
   "cell_type": "code",
   "execution_count": null,
   "metadata": {
    "collapsed": true
   },
   "outputs": [],
   "source": []
  },
  {
   "cell_type": "code",
   "execution_count": null,
   "metadata": {
    "collapsed": true
   },
   "outputs": [],
   "source": []
  },
  {
   "cell_type": "code",
   "execution_count": null,
   "metadata": {
    "collapsed": true
   },
   "outputs": [],
   "source": []
  },
  {
   "cell_type": "code",
   "execution_count": null,
   "metadata": {
    "collapsed": true
   },
   "outputs": [],
   "source": []
  }
 ],
 "metadata": {
  "kernelspec": {
   "display_name": "Python 3",
   "language": "python",
   "name": "python3"
  },
  "language_info": {
   "codemirror_mode": {
    "name": "ipython",
    "version": 3
   },
   "file_extension": ".py",
   "mimetype": "text/x-python",
   "name": "python",
   "nbconvert_exporter": "python",
   "pygments_lexer": "ipython3",
   "version": "3.5.0"
  }
 },
 "nbformat": 4,
 "nbformat_minor": 0
}
